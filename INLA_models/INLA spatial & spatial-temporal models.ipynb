{
 "cells": [
  {
   "cell_type": "markdown",
   "metadata": {},
   "source": [
    "open packages"
   ]
  },
  {
   "cell_type": "code",
   "execution_count": 1,
   "metadata": {
    "collapsed": false
   },
   "outputs": [
    {
     "name": "stderr",
     "output_type": "stream",
     "text": [
      "Loading required package: sp\n",
      "Loading required package: Matrix\n",
      "rgdal: version: 1.1-10, (SVN revision 622)\n",
      " Geospatial Data Abstraction Library extensions to R successfully loaded\n",
      " Loaded GDAL runtime: GDAL 2.0.1, released 2015/09/15\n",
      " Path to GDAL shared files: F:/Users/Jason/Documents/R/win-library/3.3/rgdal/gdal\n",
      " Loaded PROJ.4 runtime: Rel. 4.9.2, 08 September 2015, [PJ_VERSION: 492]\n",
      " Path to PROJ.4 shared files: F:/Users/Jason/Documents/R/win-library/3.3/rgdal/proj\n",
      " Linking to sp version: 1.2-3 \n",
      "Loading required package: splines\n",
      "This is INLA 0.0-1468872408, dated 2016-07-18 (14:43:05+0100).\n",
      "See www.r-inla.org/contact-us for how to get help.\n",
      "Checking rgeos availability: TRUE\n",
      "rgeos version: 0.3-20, (SVN revision 535)\n",
      " GEOS runtime version: 3.5.0-CAPI-1.9.0 r4084 \n",
      " Linking to sp version: 1.2-3 \n",
      " Polygon checking: TRUE \n",
      "\n"
     ]
    }
   ],
   "source": [
    "library(spdep)\n",
    "library(sp)\n",
    "library(rgdal)\n",
    "library(INLA)\n",
    "library(maptools)\n",
    "library(rgeos)\n",
    "library(reshape2)"
   ]
  },
  {
   "cell_type": "markdown",
   "metadata": {},
   "source": [
    "# spatial models"
   ]
  },
  {
   "cell_type": "markdown",
   "metadata": {},
   "source": [
    "prep data"
   ]
  },
  {
   "cell_type": "code",
   "execution_count": 2,
   "metadata": {
    "collapsed": false
   },
   "outputs": [],
   "source": [
    "df.hosp = read.csv(\"F:/Users/Jason/Desktop/Health_data/INLA_models/Data/admits_daily_ZCTA.csv\",header=T)\n",
    "df.temps = read.csv(\"F:/Users/Jason/Desktop/Health_data/INLA_models/Data/zip_temperatures_daily.csv\",header=T)\n",
    "df.daily = merge(df.hosp,df.temps,by=c(\"DATE\",\"ZIP\"),all.x=T)\n",
    "\n",
    "zips = readShapePoly(\"F:/Users/Jason/Desktop/Health_data/INLA_models/Data/Shapefiles/dane_zip_data.shp\")\n",
    "temp = poly2nb(zips)\n",
    "nb2INLA(\"LDN.graph\",temp)\n",
    "adj1 = paste(getwd(),\"/LDN.graph\",sep=\"\")\n",
    "H = inla.read.graph(filename=\"LDN.graph\")\n",
    "\n",
    "data1 = zips@data; data1$ID = as.numeric(data1$ID); data1$MEDIAN_INC = as.numeric(as.character(data1$MEDIAN_INC))\n",
    "data.final = merge(df.daily,data1,by=\"ZIP\",all.x=T)\n",
    "Nareas <- length(data1[,1])"
   ]
  },
  {
   "cell_type": "code",
   "execution_count": 9,
   "metadata": {
    "collapsed": false
   },
   "outputs": [
    {
     "data": {
      "text/plain": [
       "       ID             ZIP          INTPTLON10      MTFCC10   CLASSFP10\n",
       " Min.   : 1.00   Min.   :53508   Min.   :-89.83   G6350:32   B5:32    \n",
       " 1st Qu.: 8.75   1st Qu.:53532   1st Qu.:-89.53                       \n",
       " Median :16.50   Median :53590   Median :-89.40                       \n",
       " Mean   :16.50   Mean   :53613   Mean   :-89.41                       \n",
       " 3rd Qu.:24.25   3rd Qu.:53712   3rd Qu.:-89.30                       \n",
       " Max.   :32.00   Max.   :53726   Max.   :-89.03                       \n",
       "                                                                      \n",
       "    AWATER10          INTPTLAT10       ALAND10             GEOID10       \n",
       " Min.   :       0   Min.   :42.87   Min.   :  1287131   Min.   :5553508  \n",
       " 1st Qu.:   74330   1st Qu.:43.03   1st Qu.: 23863912   1st Qu.:5553532  \n",
       " Median :  542786   Median :43.07   Median : 93889890   Median :5553590  \n",
       " Mean   : 1497612   Mean   :43.08   Mean   : 92039458   Mean   :5553613  \n",
       " 3rd Qu.: 1472956   3rd Qu.:43.12   3rd Qu.:140492377   3rd Qu.:5553712  \n",
       " Max.   :15824834   Max.   :43.25   Max.   :269518984   Max.   :5553726  \n",
       "                                                                         \n",
       " FUNCSTAT10 PARTFLG10   STATEFP10    ADMISSIONS        POP       \n",
       " S:32       N:32      Min.   :55   Min.   : 181   Min.   : 1632  \n",
       "                      1st Qu.:55   1st Qu.: 385   1st Qu.: 5668  \n",
       "                      Median :55   Median :1055   Median :12624  \n",
       "                      Mean   :55   Mean   :1502   Mean   :15088  \n",
       "                      3rd Qu.:55   3rd Qu.:1956   3rd Qu.:20973  \n",
       "                      Max.   :55   Max.   :6032   Max.   :43555  \n",
       "                                                                 \n",
       "      TMIN            TMAX           PMALE           PFEMALE      \n",
       " Min.   :12.00   Min.   :24.21   Min.   :0.4602   Min.   :0.4552  \n",
       " 1st Qu.:12.42   1st Qu.:24.28   1st Qu.:0.4849   1st Qu.:0.4933  \n",
       " Median :12.60   Median :24.36   Median :0.4975   Median :0.5025  \n",
       " Mean   :13.02   Mean   :24.42   Mean   :0.4998   Mean   :0.5002  \n",
       " 3rd Qu.:13.48   3rd Qu.:24.52   3rd Qu.:0.5067   3rd Qu.:0.5151  \n",
       " Max.   :14.97   Max.   :24.86   Max.   :0.5448   Max.   :0.5398  \n",
       "                                                                  \n",
       "    PUNDER9           PUNDER18          POVER65           POVER70       \n",
       " Min.   :0.02757   Min.   :0.05381   Min.   :0.02834   Min.   :0.01908  \n",
       " 1st Qu.:0.11158   1st Qu.:0.20689   1st Qu.:0.08277   1st Qu.:0.05165  \n",
       " Median :0.12739   Median :0.24086   Median :0.10466   Median :0.07063  \n",
       " Mean   :0.12438   Mean   :0.22526   Mean   :0.10674   Mean   :0.07292  \n",
       " 3rd Qu.:0.14829   3rd Qu.:0.26875   3rd Qu.:0.13505   3rd Qu.:0.09215  \n",
       " Max.   :0.17975   Max.   :0.29508   Max.   :0.17988   Max.   :0.13061  \n",
       "                                                                        \n",
       "    POVER75          PNONWHITE           PBLACK            PASIAN        \n",
       " Min.   :0.00113   Min.   :0.00967   Min.   :0.00000   Min.   :0.000000  \n",
       " 1st Qu.:0.03360   1st Qu.:0.03955   1st Qu.:0.00551   1st Qu.:0.007318  \n",
       " Median :0.04870   Median :0.07543   Median :0.01799   Median :0.025555  \n",
       " Mean   :0.04921   Mean   :0.10452   Mean   :0.03409   Mean   :0.036309  \n",
       " 3rd Qu.:0.06409   3rd Qu.:0.15560   3rd Qu.:0.04136   3rd Qu.:0.055747  \n",
       " Max.   :0.09551   Max.   :0.37722   Max.   :0.18468   Max.   :0.149830  \n",
       "                                                                         \n",
       "   P2PLUSRACE        PMALEDISAB        PFEMDISAB         P65DISABLE    \n",
       " Min.   :0.00279   Min.   :0.03329   Min.   :0.03951   Min.   :0.2294  \n",
       " 1st Qu.:0.01287   1st Qu.:0.06954   1st Qu.:0.06516   1st Qu.:0.2713  \n",
       " Median :0.02219   Median :0.07953   Median :0.08607   Median :0.3069  \n",
       " Mean   :0.02193   Mean   :0.08545   Mean   :0.08702   Mean   :0.3135  \n",
       " 3rd Qu.:0.03106   3rd Qu.:0.10452   3rd Qu.:0.10957   3rd Qu.:0.3549  \n",
       " Max.   :0.03947   Max.   :0.12970   Max.   :0.13900   Max.   :0.4082  \n",
       "                                                                       \n",
       "   PDISABLED         PERCAPINC          PPOV           PCPOV      \n",
       " Min.   :0.04027   Min.   :15057   Min.   : 1.90   Min.   : 2.30  \n",
       " 1st Qu.:0.07310   1st Qu.:30522   1st Qu.: 5.00   1st Qu.: 5.55  \n",
       " Median :0.08752   Median :32306   Median : 7.05   Median : 9.05  \n",
       " Mean   :0.08636   Mean   :33270   Mean   :11.54   Mean   :11.73  \n",
       " 3rd Qu.:0.10005   3rd Qu.:35990   3rd Qu.:10.68   3rd Qu.:14.55  \n",
       " Max.   :0.13095   Max.   :51450   Max.   :55.30   Max.   :31.10  \n",
       "                                                                  \n",
       "   PPOV18_64         PPOV65         PHIGHSCHOO        PADVDEGREE    \n",
       " Min.   : 1.30   Min.   : 1.700   Min.   :0.00000   Min.   :0.2934  \n",
       " 1st Qu.: 4.55   1st Qu.: 3.575   1st Qu.:0.02155   1st Qu.:0.4295  \n",
       " Median : 6.00   Median : 4.400   Median :0.02975   Median :0.4577  \n",
       " Mean   :11.23   Mean   : 5.441   Mean   :0.03406   Mean   :0.4679  \n",
       " 3rd Qu.:10.45   3rd Qu.: 5.525   3rd Qu.:0.04340   3rd Qu.:0.5335  \n",
       " Max.   :59.60   Max.   :21.900   Max.   :0.09263   Max.   :0.6573  \n",
       "                                                                    \n",
       "     P50POV           P125POV           P150POV           P200POV      \n",
       " Min.   :0.00905   Min.   :0.02841   Min.   :0.03988   Min.   :0.1057  \n",
       " 1st Qu.:0.01617   1st Qu.:0.08195   1st Qu.:0.10677   1st Qu.:0.1589  \n",
       " Median :0.02588   Median :0.09352   Median :0.12748   Median :0.1847  \n",
       " Mean   :0.05908   Mean   :0.14593   Mean   :0.17603   Mean   :0.2379  \n",
       " 3rd Qu.:0.05958   3rd Qu.:0.13628   3rd Qu.:0.17056   3rd Qu.:0.2527  \n",
       " Max.   :0.38544   Max.   :0.58600   Max.   :0.62066   Max.   :0.6769  \n",
       "                                                                       \n",
       "   MANY_STUDE          MEDAGE         MMEDAGE         FMEDAGE     \n",
       " Min.   :0.00000   Min.   :21.70   Min.   :21.90   Min.   :21.50  \n",
       " 1st Qu.:0.00000   1st Qu.:34.73   1st Qu.:33.40   1st Qu.:36.70  \n",
       " Median :0.00000   Median :38.05   Median :37.10   Median :39.60  \n",
       " Mean   :0.09375   Mean   :37.21   Mean   :36.39   Mean   :37.92  \n",
       " 3rd Qu.:0.00000   3rd Qu.:40.70   3rd Qu.:39.90   3rd Qu.:40.92  \n",
       " Max.   :1.00000   Max.   :50.00   Max.   :49.00   Max.   :50.30  \n",
       "                                                                  \n",
       "    SEXRATIO           RATE            JUL_MAX         JUL_MIN     \n",
       " Min.   : 85.20   Min.   :0.04390   Min.   :32.27   Min.   :20.90  \n",
       " 1st Qu.: 94.17   1st Qu.:0.07006   1st Qu.:32.27   1st Qu.:20.93  \n",
       " Median : 98.95   Median :0.08143   Median :32.34   Median :21.05  \n",
       " Mean   :100.22   Mean   :0.09214   Mean   :32.44   Mean   :21.51  \n",
       " 3rd Qu.:102.72   3rd Qu.:0.11104   3rd Qu.:32.60   3rd Qu.:21.94  \n",
       " Max.   :119.70   Max.   :0.21726   Max.   :32.98   Max.   :23.44  \n",
       "                                                                   \n",
       "             ID2           GEOGRAPHY    MEDIAN_INC         rate      \n",
       " 8600000US53508: 1   ZCTA5 53508: 1   Min.   :24421   Min.   : 4390  \n",
       " 8600000US53515: 1   ZCTA5 53515: 1   1st Qu.:60594   1st Qu.: 7006  \n",
       " 8600000US53517: 1   ZCTA5 53517: 1   Median :69516   Median : 8143  \n",
       " 8600000US53523: 1   ZCTA5 53523: 1   Mean   :65139   Mean   : 9214  \n",
       " 8600000US53527: 1   ZCTA5 53527: 1   3rd Qu.:74427   3rd Qu.:11104  \n",
       " 8600000US53528: 1   ZCTA5 53528: 1   Max.   :88151   Max.   :21726  \n",
       " (Other)       :26   (Other)    :26                                  "
      ]
     },
     "metadata": {},
     "output_type": "display_data"
    }
   ],
   "source": [
    "summary(data1)"
   ]
  },
  {
   "cell_type": "markdown",
   "metadata": {},
   "source": [
    "fit INLA models"
   ]
  },
  {
   "cell_type": "code",
   "execution_count": 12,
   "metadata": {
    "collapsed": false
   },
   "outputs": [
    {
     "data": {
      "text/html": [
       "<table>\n",
       "<thead><tr><th></th><th scope=col>mean</th><th scope=col>sd</th><th scope=col>0.025quant</th><th scope=col>0.5quant</th><th scope=col>0.975quant</th><th scope=col>mode</th><th scope=col>kld</th></tr></thead>\n",
       "<tbody>\n",
       "\t<tr><th scope=row>(Intercept)</th><td> 9.769</td><td>0.921 </td><td> 7.950</td><td> 9.768</td><td>11.588</td><td> 9.767</td><td>0     </td></tr>\n",
       "\t<tr><th scope=row>PDISABLED</th><td> 7.516</td><td>2.110 </td><td> 3.339</td><td> 7.518</td><td>11.675</td><td> 7.522</td><td>0     </td></tr>\n",
       "\t<tr><th scope=row>PNONWHITE</th><td> 1.652</td><td>0.631 </td><td> 0.403</td><td> 1.652</td><td> 2.897</td><td> 1.652</td><td>0     </td></tr>\n",
       "\t<tr><th scope=row>TMIN</th><td>-0.116</td><td>0.067 </td><td>-0.248</td><td>-0.116</td><td> 0.015</td><td>-0.116</td><td>0     </td></tr>\n",
       "</tbody>\n",
       "</table>\n"
      ],
      "text/latex": [
       "\\begin{tabular}{r|lllllll}\n",
       "  & mean & sd & 0.025quant & 0.5quant & 0.975quant & mode & kld\\\\\n",
       "\\hline\n",
       "\t(Intercept) &  9.769 & 0.921  &  7.950 &  9.768 & 11.588 &  9.767 & 0     \\\\\n",
       "\tPDISABLED &  7.516 & 2.110  &  3.339 &  7.518 & 11.675 &  7.522 & 0     \\\\\n",
       "\tPNONWHITE &  1.652 & 0.631  &  0.403 &  1.652 &  2.897 &  1.652 & 0     \\\\\n",
       "\tTMIN & -0.116 & 0.067  & -0.248 & -0.116 &  0.015 & -0.116 & 0     \\\\\n",
       "\\end{tabular}\n"
      ],
      "text/plain": [
       "            mean   sd    0.025quant 0.5quant 0.975quant mode   kld\n",
       "(Intercept)  9.769 0.921  7.950      9.768   11.588      9.767 0  \n",
       "PDISABLED    7.516 2.110  3.339      7.518   11.675      7.522 0  \n",
       "PNONWHITE    1.652 0.631  0.403      1.652    2.897      1.652 0  \n",
       "TMIN        -0.116 0.067 -0.248     -0.116    0.015     -0.116 0  "
      ]
     },
     "metadata": {},
     "output_type": "display_data"
    },
    {
     "data": {
      "text/html": [
       "<table>\n",
       "<thead><tr><th scope=col>ID</th><th scope=col>mean</th><th scope=col>sd</th><th scope=col>0.025quant</th><th scope=col>0.5quant</th><th scope=col>0.975quant</th><th scope=col>mode</th><th scope=col>kld</th></tr></thead>\n",
       "<tbody>\n",
       "\t<tr><td>1     </td><td> 0.010</td><td>0.065 </td><td>-0.118</td><td> 0.010</td><td> 0.138</td><td> 0.010</td><td>0     </td></tr>\n",
       "\t<tr><td>2     </td><td>-0.062</td><td>0.064 </td><td>-0.190</td><td>-0.062</td><td> 0.065</td><td>-0.062</td><td>0     </td></tr>\n",
       "\t<tr><td>3     </td><td> 0.163</td><td>0.097 </td><td>-0.027</td><td> 0.163</td><td> 0.354</td><td> 0.163</td><td>0     </td></tr>\n",
       "\t<tr><td>4     </td><td> 0.119</td><td>0.050 </td><td> 0.020</td><td> 0.119</td><td> 0.217</td><td> 0.119</td><td>0     </td></tr>\n",
       "\t<tr><td>5     </td><td> 0.454</td><td>0.088 </td><td> 0.280</td><td> 0.454</td><td> 0.626</td><td> 0.454</td><td>0     </td></tr>\n",
       "\t<tr><td>6     </td><td>-0.123</td><td>0.053 </td><td>-0.228</td><td>-0.123</td><td>-0.017</td><td>-0.123</td><td>0     </td></tr>\n",
       "</tbody>\n",
       "</table>\n"
      ],
      "text/latex": [
       "\\begin{tabular}{r|llllllll}\n",
       " ID & mean & sd & 0.025quant & 0.5quant & 0.975quant & mode & kld\\\\\n",
       "\\hline\n",
       "\t 1      &  0.010 & 0.065  & -0.118 &  0.010 &  0.138 &  0.010 & 0     \\\\\n",
       "\t 2      & -0.062 & 0.064  & -0.190 & -0.062 &  0.065 & -0.062 & 0     \\\\\n",
       "\t 3      &  0.163 & 0.097  & -0.027 &  0.163 &  0.354 &  0.163 & 0     \\\\\n",
       "\t 4      &  0.119 & 0.050  &  0.020 &  0.119 &  0.217 &  0.119 & 0     \\\\\n",
       "\t 5      &  0.454 & 0.088  &  0.280 &  0.454 &  0.626 &  0.454 & 0     \\\\\n",
       "\t 6      & -0.123 & 0.053  & -0.228 & -0.123 & -0.017 & -0.123 & 0     \\\\\n",
       "\\end{tabular}\n"
      ],
      "text/plain": [
       "  ID mean   sd    0.025quant 0.5quant 0.975quant mode   kld\n",
       "1 1   0.010 0.065 -0.118      0.010    0.138      0.010 0  \n",
       "2 2  -0.062 0.064 -0.190     -0.062    0.065     -0.062 0  \n",
       "3 3   0.163 0.097 -0.027      0.163    0.354      0.163 0  \n",
       "4 4   0.119 0.050  0.020      0.119    0.217      0.119 0  \n",
       "5 5   0.454 0.088  0.280      0.454    0.626      0.454 0  \n",
       "6 6  -0.123 0.053 -0.228     -0.123   -0.017     -0.123 0  "
      ]
     },
     "metadata": {},
     "output_type": "display_data"
    }
   ],
   "source": [
    "data1$rate = round(data1$ADMISSIONS/data1$POP * 100000)\n",
    "formula1 = rate ~ 1 + PDISABLED + PNONWHITE + TMIN + f(ID, model=\"bym\", graph=adj1)\n",
    "mod1 = inla(formula1,family=\"poisson\",data=data1,control.comput=list(dic=TRUE))\n",
    "round(mod1$summary.fixed,3)\n",
    "head(round(mod1$summary.random$ID,3))"
   ]
  },
  {
   "cell_type": "code",
   "execution_count": 13,
   "metadata": {
    "collapsed": false
   },
   "outputs": [
    {
     "data": {
      "text/html": [
       "26900.9794641579"
      ],
      "text/latex": [
       "26900.9794641579"
      ],
      "text/markdown": [
       "26900.9794641579"
      ],
      "text/plain": [
       "[1] 26900.98"
      ]
     },
     "metadata": {},
     "output_type": "display_data"
    },
    {
     "data": {
      "text/html": [
       "<ol class=list-inline>\n",
       "\t<li>2694.88075285919</li>\n",
       "\t<li>105852.155599356</li>\n",
       "</ol>\n"
      ],
      "text/latex": [
       "\\begin{enumerate*}\n",
       "\\item 2694.88075285919\n",
       "\\item 105852.155599356\n",
       "\\end{enumerate*}\n"
      ],
      "text/markdown": [
       "1. 2694.88075285919\n",
       "2. 105852.155599356\n",
       "\n",
       "\n"
      ],
      "text/plain": [
       "[1]   2694.881 105852.156"
      ]
     },
     "metadata": {},
     "output_type": "display_data"
    }
   ],
   "source": [
    "inla.emarginal(exp,mod1$marginals.fixed[[1]])\t\t#dane county mean rates (9.65%)\n",
    "inla.qmarginal(c(0.025,0.975),inla.tmarginal(exp,mod1$marginals.fixed[[1]]))\t#CI for dane county rates"
   ]
  },
  {
   "cell_type": "markdown",
   "metadata": {},
   "source": [
    "map relative risks"
   ]
  },
  {
   "cell_type": "code",
   "execution_count": 39,
   "metadata": {
    "collapsed": false
   },
   "outputs": [
    {
     "data": {},
     "metadata": {},
     "output_type": "display_data"
    },
    {
     "data": {
      "image/png": "[encoded data removed]",
      "text/plain": [
       "plot without title"
      ]
     },
     "metadata": {},
     "output_type": "display_data"
    }
   ],
   "source": [
    "csi = mod1$marginals.random$ID[1:Nareas]\n",
    "zeta = lapply(csi,function(x) inla.emarginal(exp,x))\n",
    "zeta.cutoff = quantile(as.numeric(zeta))\n",
    "cat.zeta = cut(unlist(zeta),breaks=zeta.cutoff,include.lowest=T)\n",
    "maps.cat.zeta = data.frame(SP_ID=data1$ID,cat.zeta=cat.zeta)\n",
    "data.zips = attr(zips,\"data\")\n",
    "attr(zips,\"data\") = merge(data.zips,maps.cat.zeta,by.x=\"ID\",by.y=\"SP_ID\")\n",
    "spplot(obj=zips, zcol=\"cat.zeta\",col.regions=gray(seq(0.9,0.1,length=4)),asp=1)"
   ]
  },
  {
   "cell_type": "markdown",
   "metadata": {},
   "source": [
    "map posterior mean uncertainty"
   ]
  },
  {
   "cell_type": "code",
   "execution_count": 49,
   "metadata": {
    "collapsed": false
   },
   "outputs": [
    {
     "data": {},
     "metadata": {},
     "output_type": "display_data"
    },
    {
     "data": {
      "image/png": "[encoded data removed]",
      "text/plain": [
       "plot without title"
      ]
     },
     "metadata": {},
     "output_type": "display_data"
    }
   ],
   "source": [
    "a = 0\n",
    "prob.csi = lapply(csi, function(x) {1-inla.pmarginal(a,x)})\n",
    "prob.csi.cutoff = quantile(as.numeric(prob.csi))\n",
    "cat.prob.csi = cut(unlist(prob.csi),breaks=prob.csi.cutoff,include.lowest=T)\n",
    "maps.cat.prob.csi = data.frame(SP_ID=data1$ID,cat.prob.csi=cat.prob.csi)\n",
    "data.zips = attr(zips,\"data\")\n",
    "attr(zips,\"data\") = merge(data.zips,maps.cat.prob.csi,by.x=\"ID\",by.y=\"SP_ID\")\n",
    "spplot(obj=zips, zcol=\"cat.prob.csi.y\",col.regions=gray(seq(0.9,0.1,length=4)),asp=1)"
   ]
  },
  {
   "cell_type": "markdown",
   "metadata": {},
   "source": [
    "determine the proportion of variance explained by structured spatial component"
   ]
  },
  {
   "cell_type": "code",
   "execution_count": 53,
   "metadata": {
    "collapsed": false
   },
   "outputs": [
    {
     "name": "stderr",
     "output_type": "stream",
     "text": [
      "Warning message in max(marginal$y):\n",
      "\"no non-missing arguments to max; returning -Inf\"Warning message in min(x, na.rm = na.rm):\n",
      "\"no non-missing arguments to min; returning Inf\"Warning message in max(x, na.rm = na.rm):\n",
      "\"no non-missing arguments to max; returning -Inf\"Warning message in min(m$x):\n",
      "\"no non-missing arguments to min; returning Inf\"Warning message in max(m$x):\n",
      "\"no non-missing arguments to max; returning -Inf\""
     ]
    },
    {
     "ename": "ERROR",
     "evalue": "Error in seq.default(xmin, xmax, len = n): 'from' cannot be NA, NaN or infinite\n",
     "output_type": "error",
     "traceback": [
      "Error in seq.default(xmin, xmax, len = n): 'from' cannot be NA, NaN or infinite\nTraceback:\n",
      "1. inla.rmarginal(1e+05, inla.tmarginal(function(x) 1/x, mod1$marginals.hyper$\"Precision for SP_ID (iid component)\"))",
      "2. inla.qmarginal(runif(n), marginal)",
      "3. inla.sfmarginal(inla.smarginal(marginal))",
      "4. inla.marginal.fix(marginal)",
      "5. inla.smarginal(marginal)",
      "6. inla.tmarginal(function(x) 1/x, mod1$marginals.hyper$\"Precision for SP_ID (iid component)\")",
      "7. inla.smarginal(marginal)",
      "8. seq(xmin, xmax, len = n)",
      "9. seq.default(xmin, xmax, len = n)",
      "10. stop(\"'from' cannot be NA, NaN or infinite\")"
     ]
    }
   ],
   "source": [
    "mat.marg = matrix(NA,nrow=Nareas, ncol=100000)\n",
    "m = mod1$marginals.random$ID\n",
    "for (i in 1:Nareas){\n",
    "\tu = m[[Nareas+i]]\n",
    "\tmat.marg[i,] = inla.rmarginal(100000,u)\n",
    "}\n",
    "var.u = apply(mat.marg,2,var)\n",
    "var.v = inla.rmarginal(100000, inla.tmarginal(function(x) 1/x,\n",
    "\tmod1$marginals.hyper$\"Precision for SP_ID (iid component)\"))\n",
    "perc.var.u = mean(var.u/(var.u+var.v)); perc.var.u\n",
    "\n",
    "marg.hyper = inla.hyperpar.sample(100000,mod1)\n",
    "perc.var.u1 = mean(marg.hyper[,1]/(marg.hyper[,1]+marg.hyper[,2])); perc.var.u1"
   ]
  },
  {
   "cell_type": "markdown",
   "metadata": {},
   "source": [
    "# spatio-temporal model"
   ]
  },
  {
   "cell_type": "markdown",
   "metadata": {},
   "source": [
    "data prep"
   ]
  },
  {
   "cell_type": "code",
   "execution_count": 54,
   "metadata": {
    "collapsed": true
   },
   "outputs": [],
   "source": [
    "df.hosp = read.csv(\"F:/Users/Jason/Desktop/Health_data/INLA_models/Data/admits_daily_ZCTA.csv\",header=T)\n",
    "df.temps = read.csv(\"F:/Users/Jason/Desktop/Health_data/INLA_models/Data/zip_temperatures_daily.csv\",header=T)\n",
    "df.daily = merge(df.hosp,df.temps,by=c(\"DATE\",\"ZIP\"),all.x=T)\n",
    "\n",
    "zips = readShapePoly(\"F:/Users/Jason/Desktop/Health_data/INLA_models/Data/Shapefiles/dane_zip_data.shp\")\n",
    "temp = poly2nb(zips)\n",
    "nb2INLA(\"LDN.graph\",temp)\n",
    "adj1 = paste(getwd(),\"/LDN.graph\",sep=\"\")\n",
    "H = inla.read.graph(filename=\"LDN.graph\")\n",
    "\n",
    "data1 = zips@data; data1$ID = as.numeric(data1$ID); data1$MEDIAN_INC = as.numeric(as.character(data1$MEDIAN_INC))\n",
    "data1$TMIN = NULL; data1$TMAX = NULL; data1$RATE = NULL; data1$JUL_MAX = NULL; data1$JUL_MIN = NULL; data1$GOEGRAPHY = NULL; data1$ID2 = NULL\n",
    "data.final = merge(df.daily,data1,by=\"ZIP\",all.x=T)\n",
    "Nareas <- length(data1[,1])\n",
    "\n",
    "dates = data.frame(levels(factor(data.final$DATE))); colnames(dates)=\"DATE\"\n",
    "dates$DATE = as.Date(dates$DATE,\"%m-%d-%y\")\n",
    "dates$DATE = dates[order(dates$DATE),]\n",
    "dates$DAY = seq(1,nrow(dates),1)\n",
    "data.final$DATE = as.Date(data.final$DATE,\"%m-%d-%y\")\n",
    "data.final = merge(data.final,dates,by=\"DATE\",all.x=T)\n",
    "data.final$ID1 = data.final$ID"
   ]
  },
  {
   "cell_type": "markdown",
   "metadata": {},
   "source": [
    "model fitting"
   ]
  },
  {
   "cell_type": "code",
   "execution_count": 58,
   "metadata": {
    "collapsed": false
   },
   "outputs": [
    {
     "data": {
      "text/html": [
       "<table>\n",
       "<thead><tr><th></th><th scope=col>mean</th><th scope=col>sd</th><th scope=col>0.025quant</th><th scope=col>0.5quant</th><th scope=col>0.975quant</th></tr></thead>\n",
       "<tbody>\n",
       "\t<tr><th scope=row>(Intercept)</th><td> 0.006</td><td>0.071 </td><td>-0.136</td><td> 0.007</td><td> 0.143</td></tr>\n",
       "\t<tr><th scope=row>TMIN</th><td> 0.000</td><td>0.000 </td><td>-0.001</td><td> 0.000</td><td> 0.001</td></tr>\n",
       "\t<tr><th scope=row>PDISABLED</th><td>-5.917</td><td>0.816 </td><td>-7.492</td><td>-5.926</td><td>-4.290</td></tr>\n",
       "\t<tr><th scope=row>DAY</th><td> 0.000</td><td>0.000 </td><td> 0.000</td><td> 0.000</td><td> 0.000</td></tr>\n",
       "</tbody>\n",
       "</table>\n"
      ],
      "text/latex": [
       "\\begin{tabular}{r|lllll}\n",
       "  & mean & sd & 0.025quant & 0.5quant & 0.975quant\\\\\n",
       "\\hline\n",
       "\t(Intercept) &  0.006 & 0.071  & -0.136 &  0.007 &  0.143\\\\\n",
       "\tTMIN &  0.000 & 0.000  & -0.001 &  0.000 &  0.001\\\\\n",
       "\tPDISABLED & -5.917 & 0.816  & -7.492 & -5.926 & -4.290\\\\\n",
       "\tDAY &  0.000 & 0.000  &  0.000 &  0.000 &  0.000\\\\\n",
       "\\end{tabular}\n"
      ],
      "text/plain": [
       "            mean   sd    0.025quant 0.5quant 0.975quant\n",
       "(Intercept)  0.006 0.071 -0.136      0.007    0.143    \n",
       "TMIN         0.000 0.000 -0.001      0.000    0.001    \n",
       "PDISABLED   -5.917 0.816 -7.492     -5.926   -4.290    \n",
       "DAY          0.000 0.000  0.000      0.000    0.000    "
      ]
     },
     "metadata": {},
     "output_type": "display_data"
    }
   ],
   "source": [
    "##linear temporal trend\n",
    "formula1 = ADMITS ~ TMIN + PDISABLED + PNONWHITE + f(ID, model=\"bym\", graph=H, constr=TRUE) + \n",
    "              f(ID1, DAY, model=\"iid\", constr=TRUE) + \n",
    "              DAY\n",
    "\n",
    "mdl1 = inla(formula1,family=\"poisson\",data=data.final,E=EXPECTED,\n",
    "            control.predictor=list(compute=TRUE),\n",
    "            control.compute=list(dic=TRUE,cpo=TRUE))\n",
    "\n",
    "##fixed effects\n",
    "round(mdl1$summary.fixed[,1:5],3)"
   ]
  },
  {
   "cell_type": "code",
   "execution_count": 71,
   "metadata": {
    "collapsed": false
   },
   "outputs": [
    {
     "name": "stderr",
     "output_type": "stream",
     "text": [
      "Warning message in data.frame(..., check.names = FALSE):\n",
      "\"row names were found from a short variable and have been discarded\""
     ]
    },
    {
     "data": {},
     "metadata": {},
     "output_type": "display_data"
    },
    {
     "data": {
      "image/png": "[encoded data removed]",
      "text/plain": [
       "plot without title"
      ]
     },
     "metadata": {},
     "output_type": "display_data"
    }
   ],
   "source": [
    "##posterior mean of spatial effect\n",
    "m = mdl1$marginals.random[[1]][1:64]\n",
    "prob.csi = unlist(lapply(m,function(x) inla.emarginal(exp,x)))\n",
    "    \n",
    "##map relative risks \n",
    "prob.csi.cutoff = quantile(as.numeric(prob.csi))\n",
    "cat.prob.csi = cut(unlist(prob.csi),breaks=prob.csi.cutoff,include.lowest=T)\n",
    "maps.cat.prob.csi = data.frame(SP_ID=data1$ID,cat.prob.csi=cat.prob.csi)\n",
    "data.zips = attr(zips,\"data\")\n",
    "attr(zips,\"data\") = merge(data.zips, maps.cat.prob.csi, by.x = \"ID\", by.y=\"SP_ID\")\n",
    "spplot(obj=zips, zcol=\"cat.prob.csi.x\",col.regions=gray(seq(0.9,0.1,length=4)),asp=1)"
   ]
  }
 ],
 "metadata": {
  "kernelspec": {
   "display_name": "R",
   "language": "R",
   "name": "ir"
  },
  "language_info": {
   "codemirror_mode": "r",
   "file_extension": ".r",
   "mimetype": "text/x-r-source",
   "name": "R",
   "pygments_lexer": "r",
   "version": "3.3.1"
  }
 },
 "nbformat": 4,
 "nbformat_minor": 0
}
