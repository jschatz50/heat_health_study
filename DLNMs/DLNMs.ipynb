{
 "cells": [
  {
   "cell_type": "markdown",
   "metadata": {},
   "source": [
    "open packages"
   ]
  },
  {
   "cell_type": "code",
   "execution_count": 1,
   "metadata": {
    "collapsed": false
   },
   "outputs": [
    {
     "name": "stderr",
     "output_type": "stream",
     "text": [
      "This is dlnm 2.2.6. For details: help(dlnm) and vignette('dlnmOverview').\n",
      "Important changes: see file.show(system.file('Changesince220',package='dlnm'))\n",
      "Loading tidyverse: ggplot2\n",
      "Loading tidyverse: tibble\n",
      "Loading tidyverse: tidyr\n",
      "Loading tidyverse: readr\n",
      "Loading tidyverse: purrr\n",
      "Loading tidyverse: dplyr\n",
      "Conflicts with tidy packages ---------------------------------------------------\n",
      "filter(): dplyr, stats\n",
      "lag():    dplyr, stats\n",
      "\n",
      "Attaching package: 'nlme'\n",
      "\n",
      "The following object is masked from 'package:dplyr':\n",
      "\n",
      "    collapse\n",
      "\n",
      "Loading required package: Matrix\n",
      "\n",
      "Attaching package: 'Matrix'\n",
      "\n",
      "The following object is masked from 'package:tidyr':\n",
      "\n",
      "    expand\n",
      "\n",
      "\n",
      "Attaching package: 'lme4'\n",
      "\n",
      "The following object is masked from 'package:nlme':\n",
      "\n",
      "    lmList\n",
      "\n",
      "\n",
      "Attaching package: 'foreach'\n",
      "\n",
      "The following objects are masked from 'package:purrr':\n",
      "\n",
      "    accumulate, when\n",
      "\n",
      "Loading required package: iterators\n",
      "Loading required package: parallel\n",
      "Loading required package: snow\n",
      "\n",
      "Attaching package: 'snow'\n",
      "\n",
      "The following objects are masked from 'package:parallel':\n",
      "\n",
      "    clusterApply, clusterApplyLB, clusterCall, clusterEvalQ,\n",
      "    clusterExport, clusterMap, clusterSplit, makeCluster, parApply,\n",
      "    parCapply, parLapply, parRapply, parSapply, splitIndices,\n",
      "    stopCluster\n",
      "\n"
     ]
    }
   ],
   "source": [
    "library(dlnm)\n",
    "library(splines)\n",
    "library(tidyverse)\n",
    "library(nlme)\n",
    "library(lme4)\n",
    "library(foreach)\n",
    "library(doParallel)\n",
    "library(doSNOW)"
   ]
  },
  {
   "cell_type": "markdown",
   "metadata": {},
   "source": [
    "data prep"
   ]
  },
  {
   "cell_type": "code",
   "execution_count": 2,
   "metadata": {
    "collapsed": false
   },
   "outputs": [
    {
     "name": "stderr",
     "output_type": "stream",
     "text": [
      "Parsed with column specification:\n",
      "cols(\n",
      "  DATE = col_character(),\n",
      "  ADMITS = col_integer()\n",
      ")\n",
      "Parsed with column specification:\n",
      "cols(\n",
      "  DATE = col_character(),\n",
      "  ZIP = col_integer(),\n",
      "  ATMAX = col_double(),\n",
      "  ATMIN = col_double()\n",
      ")\n",
      "Parsed with column specification:\n",
      "cols(\n",
      "  ZIP = col_integer(),\n",
      "  DATE = col_character(),\n",
      "  ADMITS = col_integer(),\n",
      "  EXPECTED = col_integer()\n",
      ")\n",
      "Parsed with column specification:\n",
      "cols(\n",
      "  .default = col_double(),\n",
      "  ID = col_integer(),\n",
      "  ZIP = col_integer(),\n",
      "  AWATER10 = col_integer(),\n",
      "  ALAND10 = col_integer(),\n",
      "  GEOID10 = col_integer(),\n",
      "  POP = col_integer(),\n",
      "  PERCAPINC = col_integer(),\n",
      "  MANY_STUDE = col_integer(),\n",
      "  MEDIAN_INC = col_integer()\n",
      ")\n",
      "See spec(...) for full column specifications.\n",
      "Parsed with column specification:\n",
      "cols(\n",
      "  DATE = col_character(),\n",
      "  O3 = col_double(),\n",
      "  PM25 = col_double()\n",
      ")\n"
     ]
    },
    {
     "ename": "ERROR",
     "evalue": "Error in eval(expr, envir, enclos): could not find function \"rollmean\"\n",
     "output_type": "error",
     "traceback": [
      "Error in eval(expr, envir, enclos): could not find function \"rollmean\"\nTraceback:\n"
     ]
    }
   ],
   "source": [
    "## open files ##\n",
    "data_path = \"F:/Users/Jason/Desktop/Health_data/DLNMs/data_files\"\n",
    "\n",
    "dane_admits = read_csv(paste(data_path,\"admissions_daily_countywide.csv\",sep=\"/\"))\n",
    "zip_temps = read_csv(paste(data_path,\"temperatures_ZCTA_daily.csv\",sep=\"/\"))\n",
    "zip_admits = read_csv(paste(data_path,\"admissions_daily_ZCTA.csv\",sep=\"/\"))\n",
    "zip_census = read_csv(paste(data_path,\"census_ZCTA.csv\",sep=\"/\"))\n",
    "AQ = read_csv(paste(data_path,\"AQ_data.csv\",sep=\"/\"))\n",
    "\n",
    "## prep zip_df ##\n",
    "zip_temps = merge(zip_temps, AQ, by=\"DATE\", all.x=T)\n",
    "zip_df = merge(zip_admits, zip_temps, by=c(\"DATE\",\"ZIP\"), all.x=T)\n",
    "zip_df = merge(zip_df, zip_census, by=\"ZIP\", all.x=T)\n",
    "zip_df$DATE = as.Date(zip_df$DATE, format=\"%m-%d-%y\")\n",
    "zip_df = zip_df[order(zip_df$DATE),]\n",
    "zip_df$DOW = weekdays(zip_df$DATE)\n",
    "zip_df$DOY = as.integer(strftime(zip_df$DATE, format = \"%j\"))\n",
    "zip_df$WEEK = (zip_df$DOY-1)%/%7 + 1\n",
    "zip_df$MONTH = as.integer(strftime(zip_df$DATE, format = \"%m\")) \n",
    "zip_df$YEAR = as.integer(strftime(zip_df$DATE, format = \"%y\"))\n",
    "zip_df$WEEKEND = ifelse(zip_df$DOW == \"Saturday\" | zip_df$DOW == \"Sunday\", 1, 0)\n",
    "\n",
    "## population weighted ATs for countywide analysis ##\n",
    "w1 = zip_df\n",
    "w1$wATMAX = w1$ATMAX*w1$POP/sum(zip_census$POP)\n",
    "w1$wATMIN = w1$ATMIN*w1$POP/sum(zip_census$POP)\n",
    "dane_temps <- aggregate(c(w1[\"wATMAX\"],w1[\"wATMIN\"]), by=w1[c(\"DATE\")], FUN=sum, na.rm=T)\n",
    "colnames(dane_temps) = c(\"DATE\",\"ATMAX\",\"ATMIN\")\n",
    "\n",
    "## prep dane_df\n",
    "dane_admits$DATE = as.Date(dane_admits$DATE, format=\"%m-%d-%y\")\n",
    "AQ$DATE = as.Date(AQ$DATE, format=\"%m-%d-%y\")\n",
    "dane_temps = merge(dane_temps, AQ, by=\"DATE\", all.x=T)\n",
    "dane_df = merge(dane_admits, dane_temps, by=\"DATE\", all.x=T)\n",
    "dane_df = dane_df[order(dane_df$DATE),]\n",
    "dane_df$DOW = weekdays(dane_df$DATE)\n",
    "dane_df$DOY = as.integer(strftime(dane_df$DATE, format = \"%j\"))\n",
    "dane_df$WEEK = (dane_df$DOY-1)%/%7 + 1\n",
    "dane_df$MONTH = as.integer(strftime(dane_df$DATE, format = \"%m\")) \n",
    "dane_df$YEAR = as.integer(strftime(dane_df$DATE, format = \"%y\"))\n",
    "dane_df$WEEKEND = ifelse(dane_df$DOW == \"Saturday\" | dane_df$DOW == \"Sunday\", 1, 0)\n",
    "dane_df$obsno = seq(1,nrow(dane_df),1)\n",
    "dane_df$prev_1_ATMAX = c(NA, head(dane_df['ATMAX'], dim(dane_df)[1] - 1)[[1]])\n",
    "dane_df$prev_2_ATMAX = rollmean(dane_df$ATMAX,2,fill=NA,align='right')\n",
    "dane_df$prev_3_ATMAX = rollmean(dane_df$ATMAX,3,fill=NA,align='right')\n",
    "dane_df$prev_1_ATMIN = c(NA, head(dane_df['ATMIN'], dim(dane_df)[1] - 1)[[1]])\n",
    "dane_df$prev_2_ATMIN = rollmean(dane_df$ATMIN,2,fill=NA,align='right')\n",
    "dane_df$prev_3_ATMIN = rollmean(dane_df$ATMIN,3,fill=NA,align='right')\n",
    "\n",
    "dane_df = subset(dane_df, MONTH!=4)\n",
    "zip_df = subset(zip_df, MONTH!=4)\n",
    "obsno = data.frame(dane_df[,c(\"DATE\",\"obsno\")])\n",
    "zip_df = merge(zip_df,obsno,by=\"DATE\")"
   ]
  },
  {
   "cell_type": "markdown",
   "metadata": {},
   "source": [
    "overdispersion testing function for poisson models"
   ]
  },
  {
   "cell_type": "code",
   "execution_count": 4,
   "metadata": {
    "collapsed": false
   },
   "outputs": [],
   "source": [
    "overdisp_fun <- function(model) {\n",
    "\t## number of variance parameters in \n",
    "\t##   an n-by-n variance-covariance matrix\n",
    "\tvpars <- function(m) {\n",
    "\t\tnrow(m)*(nrow(m)+1)/2\n",
    "\t\t}\n",
    "\tmodel.df <- sum(sapply(VarCorr(model),vpars))+length(fixef(model))\n",
    "\trdf <- nrow(model.frame(model))-model.df\n",
    "\trp <- residuals(model,type=\"pearson\")\n",
    "\tPearson.chisq <- sum(rp^2)\n",
    "\tprat <- Pearson.chisq/rdf\n",
    "\tpval <- pchisq(Pearson.chisq, df=rdf, lower.tail=FALSE)\n",
    "\tc(chisq=Pearson.chisq,ratio=prat,rdf=rdf,p=pval) }"
   ]
  },
  {
   "cell_type": "markdown",
   "metadata": {},
   "source": [
    "# countywide models"
   ]
  },
  {
   "cell_type": "markdown",
   "metadata": {},
   "source": [
    "fits a DLNM for aggregate countywide admits and population weighted ATs"
   ]
  },
  {
   "cell_type": "code",
   "execution_count": 5,
   "metadata": {
    "collapsed": false
   },
   "outputs": [
    {
     "name": "stderr",
     "output_type": "stream",
     "text": [
      "Warning message in checkonebasis(fun, args, cen):\n",
      "\"centering through 'cen' now applied at the prediction stage. See ?crosspred\"Warning message in checkConv(attr(opt, \"derivs\"), opt$par, ctrl = control$checkConv, :\n",
      "\"Model failed to converge with max|grad| = 0.0316882 (tol = 0.001, component 1)\""
     ]
    },
    {
     "data": {
      "text/html": [
       "6606.83489698759"
      ],
      "text/latex": [
       "6606.83489698759"
      ],
      "text/markdown": [
       "6606.83489698759"
      ],
      "text/plain": [
       "[1] 6606.835"
      ]
     },
     "metadata": {},
     "output_type": "display_data"
    },
    {
     "data": {
      "text/html": [
       "<dl class=dl-horizontal>\n",
       "\t<dt>chisq</dt>\n",
       "\t\t<dd>418.8748131446</dd>\n",
       "\t<dt>ratio</dt>\n",
       "\t\t<dd>0.598392590206571</dd>\n",
       "\t<dt>rdf</dt>\n",
       "\t\t<dd>700</dd>\n",
       "\t<dt>p</dt>\n",
       "\t\t<dd>1</dd>\n",
       "</dl>\n"
      ],
      "text/latex": [
       "\\begin{description*}\n",
       "\\item[chisq] 418.8748131446\n",
       "\\item[ratio] 0.598392590206571\n",
       "\\item[rdf] 700\n",
       "\\item[p] 1\n",
       "\\end{description*}\n"
      ],
      "text/markdown": [
       "chisq\n",
       ":   418.8748131446ratio\n",
       ":   0.598392590206571rdf\n",
       ":   700p\n",
       ":   1\n",
       "\n"
      ],
      "text/plain": [
       "      chisq       ratio         rdf           p \n",
       "418.8748131   0.5983926 700.0000000   1.0000000 "
      ]
     },
     "metadata": {},
     "output_type": "display_data"
    }
   ],
   "source": [
    "varknots=with(dane_df, equalknots(ATMAX,fun=\"ns\",df=4))\n",
    "lagknots=logknots(5,1)\n",
    "cb1=with(dane_df, crossbasis(ATMAX,lag=7,argvar=list(fun=\"ns\",knots=varknots,cen=20),arglag=list(knots=lagknots)))\n",
    "mdl1=with(dane_df, glmer(ADMITS~cb1+ns(obsno,3)+DOW+(1|YEAR/WEEK/DOW),family=poisson())); AIC(mdl1)\n",
    "\n",
    "overdisp_fun(mdl1)\n",
    "pred1=crosspred(cb1,mdl1,by=1)"
   ]
  },
  {
   "cell_type": "code",
   "execution_count": 6,
   "metadata": {
    "collapsed": false
   },
   "outputs": [
    {
     "data": {
      "image/png": "[encoded data removed]",
      "text/plain": [
       "Plot with title \"20C baseline\""
      ]
     },
     "metadata": {},
     "output_type": "display_data"
    }
   ],
   "source": [
    "plot(pred1,\"contour\",xlab=\"ATmax\",key.title=title(\"RR\"),plot.title=title(\"20C baseline\",xlab=\"ATmax\",ylab=\"Lag\"))"
   ]
  },
  {
   "cell_type": "code",
   "execution_count": 7,
   "metadata": {
    "collapsed": false
   },
   "outputs": [
    {
     "data": {
      "image/png": "[encoded data removed]",
      "text/plain": [
       "Plot with title \"Lag response curves for different temperatures; reference temp 20C\""
      ]
     },
     "metadata": {},
     "output_type": "display_data"
    }
   ],
   "source": [
    "plot(pred1,\"slices\",var=20,ci=\"n\",col=1,ylim=c(0.95,1.1),lwd=1.5,main=\"Lag response curves for different temperatures; reference temp 20C\")\n",
    "for(i in 1:3) lines(pred1,\"slices\",var=c(19,30,35)[i],col=i,lwd=1.5)\n",
    "legend(\"topright\",paste(\"ATmax=\",c(19,30,35)),col=1:3,lwd=1.5)"
   ]
  },
  {
   "cell_type": "code",
   "execution_count": 8,
   "metadata": {
    "collapsed": false
   },
   "outputs": [
    {
     "data": {
      "image/png": "[encoded data removed]",
      "text/plain": [
       "Plot with title \"\""
      ]
     },
     "metadata": {},
     "output_type": "display_data"
    }
   ],
   "source": [
    "plot(pred1,\"slices\",var=c(15,25,30,35),col=2,ci.arg=list(density=40,col=grey(0.7)))"
   ]
  },
  {
   "cell_type": "markdown",
   "metadata": {},
   "source": [
    "extract cumulative effect of 32C (relative to 20C) over 5 days of lag, plus 95% CI:"
   ]
  },
  {
   "cell_type": "code",
   "execution_count": 9,
   "metadata": {
    "collapsed": false
   },
   "outputs": [
    {
     "data": {
      "text/html": [
       "<strong>32:</strong> 1.06245633343202"
      ],
      "text/latex": [
       "\\textbf{32:} 1.06245633343202"
      ],
      "text/markdown": [
       "**32:** 1.06245633343202"
      ],
      "text/plain": [
       "      32 \n",
       "1.062456 "
      ]
     },
     "metadata": {},
     "output_type": "display_data"
    },
    {
     "data": {
      "text/html": [
       "<ol class=list-inline>\n",
       "\t<li>1.0225830623209</li>\n",
       "\t<li>1.10388437090657</li>\n",
       "</ol>\n"
      ],
      "text/latex": [
       "\\begin{enumerate*}\n",
       "\\item 1.0225830623209\n",
       "\\item 1.10388437090657\n",
       "\\end{enumerate*}\n"
      ],
      "text/markdown": [
       "1. 1.0225830623209\n",
       "2. 1.10388437090657\n",
       "\n",
       "\n"
      ],
      "text/plain": [
       "[1] 1.022583 1.103884"
      ]
     },
     "metadata": {},
     "output_type": "display_data"
    },
    {
     "data": {
      "text/html": [
       "<table>\n",
       "<tbody>\n",
       "\t<tr><td>482805  </td><td>256.6052</td></tr>\n",
       "</tbody>\n",
       "</table>\n"
      ],
      "text/latex": [
       "\\begin{tabular}{ll}\n",
       "\t 482805   & 256.6052\\\\\n",
       "\\end{tabular}\n"
      ],
      "text/markdown": [
       "1. 482805\n",
       "2. 256.605191256831\n",
       "\n",
       "\n"
      ],
      "text/plain": [
       "     [,1]   [,2]    \n",
       "[1,] 482805 256.6052"
      ]
     },
     "metadata": {},
     "output_type": "display_data"
    }
   ],
   "source": [
    "pred1$allRRfit[\"32\"]\t##cumulative\n",
    "cbind(pred1$allRRlow,pred1$allRRhigh)[\"32\",]\t##95% CI\n",
    "cbind(sum(zip_census$POP),mean(dane_df$ADMITS))"
   ]
  },
  {
   "cell_type": "markdown",
   "metadata": {},
   "source": [
    "# reducing a DLNM"
   ]
  },
  {
   "cell_type": "markdown",
   "metadata": {},
   "source": [
    "Reducing a bi-dimensional DLNM produces summaries defined in the the dimension of predictor or lags only, and \n",
    "re-expresses it in terms of modified parameters of the one-dimensional basis functions chosen for that space.\n",
    "Useful for plotting associations. This example uses the countywide admissions, but it can be combined with any \n",
    "of the code blocks above."
   ]
  },
  {
   "cell_type": "code",
   "execution_count": 16,
   "metadata": {
    "collapsed": false
   },
   "outputs": [
    {
     "name": "stderr",
     "output_type": "stream",
     "text": [
      "Warning message in checkonebasis(fun, args, cen):\n",
      "\"centering through 'cen' now applied at the prediction stage. See ?crosspred\"Warning message in checkConv(attr(opt, \"derivs\"), opt$par, ctrl = control$checkConv, :\n",
      "\"Model failed to converge with max|grad| = 0.0316882 (tol = 0.001, component 1)\""
     ]
    },
    {
     "data": {
      "text/html": [
       "6606.83489698759"
      ],
      "text/latex": [
       "6606.83489698759"
      ],
      "text/markdown": [
       "6606.83489698759"
      ],
      "text/plain": [
       "[1] 6606.835"
      ]
     },
     "metadata": {},
     "output_type": "display_data"
    }
   ],
   "source": [
    "varknots=with(dane_df, equalknots(ATMAX,fun=\"ns\",df=4))\n",
    "lagknots=logknots(5,1)\n",
    "cb1=with(dane_df, crossbasis(ATMAX,lag=7,argvar=list(fun=\"ns\",knots=varknots,cen=20),arglag=list(knots=lagknots)))\n",
    "mdl1=with(dane_df, glmer(ADMITS~cb1+ns(obsno,3)+DOW+(1|YEAR/WEEK/DOW),family=poisson())); AIC(mdl1)\n",
    "pred1=crosspred(cb1,mdl1,by=1)\n",
    "\n",
    "redall=crossreduce(cb1,mdl1)                      #overall cumulative\n",
    "redlag=crossreduce(cb1,mdl1,type=\"lag\",value=3)   #lag specific exposure/response relationship (lag of 3 days currently specified)\n",
    "redvar=crossreduce(cb1,mdl1,type=\"var\",value=32)  #temperature specific lag/response relationship (temp of 33C currently specified)"
   ]
  },
  {
   "cell_type": "code",
   "execution_count": 17,
   "metadata": {
    "collapsed": false
   },
   "outputs": [
    {
     "data": {
      "image/png": "[encoded data removed]",
      "text/plain": [
       "Plot with title \"Overall cumulative association\""
      ]
     },
     "metadata": {},
     "output_type": "display_data"
    }
   ],
   "source": [
    "#cumulative increase in admits over a lag of 3 days\n",
    "plot(pred1,\"overall\",xlab=\"Temperature\",ylab=\"RR\",ylim=c(0.8,1.6),main=\"Overall cumulative association\")"
   ]
  },
  {
   "cell_type": "code",
   "execution_count": 18,
   "metadata": {
    "collapsed": false
   },
   "outputs": [
    {
     "data": {
      "image/png": "[encoded data removed]",
      "text/plain": [
       "Plot with title \"Predictor-specific association at 32C\""
      ]
     },
     "metadata": {},
     "output_type": "display_data"
    }
   ],
   "source": [
    "#change in RR at various lags at 33C\n",
    "plot(pred1,\"slices\",var=32,ylab=\"RR\",ylim=c(0.95,1.05),main=\"Predictor-specific association at 32C\")\n",
    "lines(redvar,ci=\"lines\",col=4,lty=2)"
   ]
  },
  {
   "cell_type": "markdown",
   "metadata": {},
   "source": [
    "# all zip, time admissions"
   ]
  },
  {
   "cell_type": "markdown",
   "metadata": {},
   "source": [
    "fit DLNM with all data (all zips, all days), with day-of-year nested in year and year nested in zip"
   ]
  },
  {
   "cell_type": "code",
   "execution_count": null,
   "metadata": {
    "collapsed": true
   },
   "outputs": [],
   "source": [
    "varknots = with(zip_df, equalknots(ATMAX,fun=\"ns\",df=5))\n",
    "lagknots = logknots(5,1)\n",
    "zip_df = scale(zip_df)\n",
    "cb1 = with(zip_df, crossbasis(ATMAX,lag=7,argvar=list(fun=\"ns\",knots=varknots,cen=20),arglag=list(knots=lagknots)))\n",
    "md11 = with(zip_df, glmer(ADMITS ~ offset(log(POP)) + scale(MEDIAN_INC) + scale(PNONWHITE) + scale(PDISABLED) + DOW + cb1 + ns(obsno,3) + (1|ZIP/YEAR/DOY), family=poisson))\n",
    "#mdl2 = with(zip_df, glmer(ADMITS ~ offset(log(POP)) + scale(MEDIAN_INC) + scale(PNONWHITE) + scale(PDISABLED) + DOW + cb1 + (1|ZIP/YEAR/DOY), family=poisson))\n",
    "\n",
    "pred1=crosspred(cb1,mdl1,by=1)"
   ]
  },
  {
   "cell_type": "code",
   "execution_count": null,
   "metadata": {
    "collapsed": true
   },
   "outputs": [],
   "source": [
    "plot(pred1,\"contour\",xlab=\"ATmax\",key.title=title(\"RR\"),plot.title=title(\"20C baseline\",xlab=\"ATmax\",ylab=\"Lag\"))"
   ]
  },
  {
   "cell_type": "code",
   "execution_count": null,
   "metadata": {
    "collapsed": true
   },
   "outputs": [],
   "source": [
    "plot(pred1,\"slices\",var=20,ci=\"n\",col=1,ylim=c(0.95,1.1),lwd=1.5,main=\"Lag response curves for different temperatures; reference temp 20C\")\n",
    "for(i in 1:3) lines(pred1,\"slices\",var=c(19,30,35)[i],col=i,lwd=1.5)\n",
    "legend(\"topright\",paste(\"Temperature=\",c(19,30,35)),col=1:3,lwd=1.5)"
   ]
  },
  {
   "cell_type": "code",
   "execution_count": null,
   "metadata": {
    "collapsed": true
   },
   "outputs": [],
   "source": [
    "plot(pred1,\"slices\",var=c(15,25,30,35),col=2,ci.arg=list(density=40,col=grey(0.7)))"
   ]
  },
  {
   "cell_type": "markdown",
   "metadata": {},
   "source": [
    "extract cumulative effect of 32C (relative to 20C) over 5 days of lag, plus 95% CI:"
   ]
  },
  {
   "cell_type": "code",
   "execution_count": null,
   "metadata": {
    "collapsed": true
   },
   "outputs": [],
   "source": [
    "pred1$allRRfit[\"32\"]\t##cumulative\n",
    "cbind(pred1$allRRlow,pred1$allRRhigh)[\"32\",]\t##95% CI\n",
    "cbind(sum(zip_census$POP),mean(dane_df$ADMITS))"
   ]
  },
  {
   "cell_type": "markdown",
   "metadata": {},
   "source": [
    "# individual zip admissions"
   ]
  },
  {
   "cell_type": "markdown",
   "metadata": {},
   "source": [
    "fits a DLNM for each zip individually"
   ]
  },
  {
   "cell_type": "code",
   "execution_count": null,
   "metadata": {
    "collapsed": true
   },
   "outputs": [],
   "source": [
    "zips = levels(factor(zip_census$ZIP))\n",
    "\n",
    "for (i in 1:length(zips)){\n",
    "   tryCatch({\n",
    "\tz1 = zips[i]\n",
    "\tdf1 = subset(zip_df,ZIP==z1)\n",
    "\tvarknots=with(df1, equalknots(ATMAX,fun=\"ns\",df=4))\n",
    "\tlagknots=logknots(5,1)\n",
    "\tcb1=with(df1, crossbasis(ATMAX,lag=7,argvar=list(fun=\"ns\",knots=varknots,cen=20),arglag=list(knots=lagknots)))\n",
    "\tmdl1=with(df1, glmer(ADMITS~cb1+ns(obsno,3)+DOW+(1|YEAR/WEEK/DOW),family=poisson())); AIC(mdl1)\n",
    "\n",
    "\tpred1=crosspred(cb1,mdl1,by=1)\n",
    "\n",
    "\toutname = paste(z1,\"curves.tiff\",sep=\"_\")\n",
    "\ttiff(outname,height=2400,width=700,res=300)\n",
    "\tpar(mar=c(0.1,0.1,0.1,0.1), mai = c(0.1, 0.1, 0.1, 0.1))\n",
    "\tplot(pred1,\"slices\",var=c(15,25,30,35),col=2,ci.arg=list(density=40,col=grey(0.7)),xlab='n')\n",
    "\tdev.off()\n",
    "   }, error=function(e){cat(\"ERROR :\",conditionMessage(e), \"\\n\")})\n",
    "}"
   ]
  }
 ],
 "metadata": {
  "kernelspec": {
   "display_name": "R",
   "language": "R",
   "name": "ir"
  },
  "language_info": {
   "codemirror_mode": "r",
   "file_extension": ".r",
   "mimetype": "text/x-r-source",
   "name": "R",
   "pygments_lexer": "r",
   "version": "3.3.1"
  }
 },
 "nbformat": 4,
 "nbformat_minor": 0
}
