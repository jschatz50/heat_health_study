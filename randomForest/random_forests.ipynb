{
 "cells": [
  {
   "cell_type": "markdown",
   "metadata": {},
   "source": [
    "# RANDOM FOREST MODELS"
   ]
  },
  {
   "cell_type": "markdown",
   "metadata": {},
   "source": [
    "this script fits a random forest model to the data, determines the relative importance of different variables, prunes the models accordingly, makes predictions based on the model, and describes the relationships between AT and admits"
   ]
  },
  {
   "cell_type": "markdown",
   "metadata": {},
   "source": [
    "libraries"
   ]
  },
  {
   "cell_type": "code",
   "execution_count": 1,
   "metadata": {
    "collapsed": false
   },
   "outputs": [
    {
     "name": "stderr",
     "output_type": "stream",
     "text": [
      "\n",
      "Attaching package: 'zoo'\n",
      "\n",
      "The following objects are masked from 'package:base':\n",
      "\n",
      "    as.Date, as.Date.numeric\n",
      "\n",
      "\n",
      "Attaching package: 'data.table'\n",
      "\n",
      "The following object is masked from 'package:reshape':\n",
      "\n",
      "    melt\n",
      "\n",
      "randomForest 4.6-12\n",
      "Type rfNews() to see new features/changes/bug fixes.\n",
      "\n",
      "Attaching package: 'randomForest'\n",
      "\n",
      "The following object is masked from 'package:ggplot2':\n",
      "\n",
      "    margin\n",
      "\n",
      "Loading required package: rpart\n",
      "Loading tidyverse: tibble\n",
      "Loading tidyverse: tidyr\n",
      "Loading tidyverse: readr\n",
      "Loading tidyverse: purrr\n",
      "Loading tidyverse: dplyr\n",
      "------------------------------------------------------------------------------\n",
      "data.table + dplyr code now lives in dtplyr.\n",
      "Please library(dtplyr)!\n",
      "------------------------------------------------------------------------------\n",
      "Conflicts with tidy packages ---------------------------------------------------\n",
      "between():   dplyr, data.table\n",
      "combine():   dplyr, randomForest\n",
      "expand():    tidyr, reshape\n",
      "filter():    dplyr, stats\n",
      "lag():       dplyr, stats\n",
      "last():      dplyr, data.table\n",
      "margin():    ggplot2, randomForest\n",
      "rename():    dplyr, reshape\n",
      "smiths():    tidyr, reshape\n",
      "transpose(): purrr, data.table\n"
     ]
    }
   ],
   "source": [
    "library(zoo)\n",
    "library(ggplot2)\n",
    "library(reshape)\n",
    "library(lattice)\n",
    "library(data.table)\n",
    "library(randomForest)\n",
    "library(rpart.plot)\n",
    "library(vita)\n",
    "library(tidyverse)"
   ]
  },
  {
   "cell_type": "markdown",
   "metadata": {},
   "source": [
    "data prep"
   ]
  },
  {
   "cell_type": "code",
   "execution_count": 12,
   "metadata": {
    "collapsed": false
   },
   "outputs": [
    {
     "name": "stderr",
     "output_type": "stream",
     "text": [
      "Parsed with column specification:\n",
      "cols(\n",
      "  DATE = col_character(),\n",
      "  ADMITS = col_integer()\n",
      ")\n",
      "Parsed with column specification:\n",
      "cols(\n",
      "  DATE = col_character(),\n",
      "  ZIP = col_integer(),\n",
      "  ATMAX = col_double(),\n",
      "  ATMIN = col_double()\n",
      ")\n",
      "Parsed with column specification:\n",
      "cols(\n",
      "  ZIP = col_integer(),\n",
      "  DATE = col_character(),\n",
      "  ADMITS = col_integer(),\n",
      "  EXPECTED = col_integer()\n",
      ")\n",
      "Parsed with column specification:\n",
      "cols(\n",
      "  .default = col_double(),\n",
      "  ID = col_integer(),\n",
      "  ZIP = col_integer(),\n",
      "  AWATER10 = col_integer(),\n",
      "  ALAND10 = col_integer(),\n",
      "  GEOID10 = col_integer(),\n",
      "  POP = col_integer(),\n",
      "  PERCAPINC = col_integer(),\n",
      "  MANY_STUDE = col_integer(),\n",
      "  MEDIAN_INC = col_integer()\n",
      ")\n",
      "See spec(...) for full column specifications.\n",
      "Parsed with column specification:\n",
      "cols(\n",
      "  DATE = col_character(),\n",
      "  O3 = col_double(),\n",
      "  PM25 = col_double()\n",
      ")\n"
     ]
    }
   ],
   "source": [
    "## open files ##\n",
    "data_path = \"F:/Users/Jason/Desktop/Health_data/DLNMs/data_files\"\n",
    "\n",
    "dane_admits = read_csv(paste(data_path,\"admissions_daily_countywide.csv\",sep=\"/\"))\n",
    "zip_temps = read_csv(paste(data_path,\"temperatures_ZCTA_daily.csv\",sep=\"/\"))\n",
    "zip_admits = read_csv(paste(data_path,\"admissions_daily_ZCTA.csv\",sep=\"/\"))\n",
    "zip_census = read_csv(paste(data_path,\"census_ZCTA.csv\",sep=\"/\"))\n",
    "AQ = read_csv(paste(data_path,\"AQ_data.csv\",sep=\"/\"))\n",
    "\n",
    "## prep zip_df ##\n",
    "zip_temps = merge(zip_temps, AQ, by=\"DATE\", all.x=T)\n",
    "zip_df = merge(zip_admits, zip_temps, by=c(\"DATE\",\"ZIP\"), all.x=T)\n",
    "zip_df = merge(zip_df, zip_census, by=\"ZIP\", all.x=T)\n",
    "zip_df$DATE = as.Date(zip_df$DATE, format=\"%m-%d-%y\")\n",
    "zip_df = zip_df[order(zip_df$DATE),]\n",
    "zip_df$DOW = weekdays(zip_df$DATE)\n",
    "zip_df$DOY = as.integer(strftime(zip_df$DATE, format = \"%j\"))\n",
    "zip_df$WEEK = (zip_df$DOY-1)%/%7 + 1\n",
    "zip_df$MONTH = as.integer(strftime(zip_df$DATE, format = \"%m\")) \n",
    "zip_df$YEAR = as.integer(strftime(zip_df$DATE, format = \"%y\"))\n",
    "zip_df$WEEKEND = ifelse(zip_df$DOW == \"Saturday\" | zip_df$DOW == \"Sunday\", 1, 0)\n",
    "\n",
    "## population weighted ATs for countywide analysis ##\n",
    "w1 = zip_df\n",
    "w1$wATMAX = w1$ATMAX*w1$POP/sum(zip_census$POP)\n",
    "w1$wATMIN = w1$ATMIN*w1$POP/sum(zip_census$POP)\n",
    "dane_temps <- aggregate(c(w1[\"wATMAX\"],w1[\"wATMIN\"]), by=w1[c(\"DATE\")], FUN=sum, na.rm=T)\n",
    "colnames(dane_temps) = c(\"DATE\",\"ATMAX\",\"ATMIN\")\n",
    "\n",
    "## prep dane_df\n",
    "dane_admits$DATE = as.Date(dane_admits$DATE, format=\"%m-%d-%y\")\n",
    "AQ$DATE = as.Date(AQ$DATE, format=\"%m-%d-%y\")\n",
    "dane_temps = merge(dane_temps, AQ, by=\"DATE\", all.x=T)\n",
    "dane_df = merge(dane_admits, dane_temps, by=\"DATE\", all.x=T)\n",
    "dane_df = dane_df[order(dane_df$DATE),]\n",
    "dane_df$DOW = weekdays(dane_df$DATE)\n",
    "dane_df$DOY = as.integer(strftime(dane_df$DATE, format = \"%j\"))\n",
    "dane_df$WEEK = (dane_df$DOY-1)%/%7 + 1\n",
    "dane_df$MONTH = as.integer(strftime(dane_df$DATE, format = \"%m\")) \n",
    "dane_df$YEAR = as.integer(strftime(dane_df$DATE, format = \"%y\"))\n",
    "dane_df$WEEKEND = ifelse(dane_df$DOW == \"Saturday\" | dane_df$DOW == \"Sunday\", 1, 0)\n",
    "dane_df$obsno = seq(1,nrow(dane_df),1)\n",
    "dane_df$prev_1_ATMAX = c(NA, head(dane_df['ATMAX'], dim(dane_df)[1] - 1)[[1]])\n",
    "dane_df$prev_2_ATMAX = rollmean(dane_df$ATMAX,2,fill=NA,align='right')\n",
    "dane_df$prev_3_ATMAX = rollmean(dane_df$ATMAX,3,fill=NA,align='right')\n",
    "dane_df$prev_1_ATMIN = c(NA, head(dane_df['ATMIN'], dim(dane_df)[1] - 1)[[1]])\n",
    "dane_df$prev_2_ATMIN = rollmean(dane_df$ATMIN,2,fill=NA,align='right')\n",
    "dane_df$prev_3_ATMIN = rollmean(dane_df$ATMIN,3,fill=NA,align='right')\n",
    "\n",
    "dane_df = subset(dane_df, MONTH!=4)\n",
    "zip_df = subset(zip_df, MONTH!=4)\n",
    "obsno = data.frame(dane_df[,c(\"DATE\",\"obsno\")])\n",
    "zip_df = merge(zip_df,obsno,by=\"DATE\")"
   ]
  },
  {
   "cell_type": "markdown",
   "metadata": {},
   "source": [
    "# AGGREGATE COUNTYWIDE MODEL"
   ]
  },
  {
   "cell_type": "markdown",
   "metadata": {},
   "source": [
    "for aggregate daily Dane County admits, define training and test data, fit model, and print initial importance values"
   ]
  },
  {
   "cell_type": "code",
   "execution_count": 14,
   "metadata": {
    "collapsed": false
   },
   "outputs": [
    {
     "data": {
      "text/plain": [
       "\n",
       "Call:\n",
       " randomForest(formula = ADMITS ~ ATMAX + DOW + MONTH + O3 + PM25,      data = training, importance = TRUE, ntree = 1000) \n",
       "               Type of random forest: regression\n",
       "                     Number of trees: 1000\n",
       "No. of variables tried at each split: 1\n",
       "\n",
       "          Mean of squared residuals: 633.7098\n",
       "                    % Var explained: 36.16"
      ]
     },
     "metadata": {},
     "output_type": "display_data"
    },
    {
     "data": {
      "text/html": [
       "<table>\n",
       "<thead><tr><th></th><th scope=col>values</th></tr></thead>\n",
       "<tbody>\n",
       "\t<tr><th scope=row>ATMAX</th><td>29.96</td></tr>\n",
       "\t<tr><th scope=row>DOW</th><td>74.92</td></tr>\n",
       "\t<tr><th scope=row>MONTH</th><td>16.09</td></tr>\n",
       "\t<tr><th scope=row>O3</th><td> 8.06</td></tr>\n",
       "\t<tr><th scope=row>PM25</th><td> 5.09</td></tr>\n",
       "</tbody>\n",
       "</table>\n"
      ],
      "text/latex": [
       "\\begin{tabular}{r|l}\n",
       "  & values\\\\\n",
       "\\hline\n",
       "\tATMAX & 29.96\\\\\n",
       "\tDOW & 74.92\\\\\n",
       "\tMONTH & 16.09\\\\\n",
       "\tO3 &  8.06\\\\\n",
       "\tPM25 &  5.09\\\\\n",
       "\\end{tabular}\n"
      ],
      "text/plain": [
       "      values\n",
       "ATMAX 29.96 \n",
       "DOW   74.92 \n",
       "MONTH 16.09 \n",
       "O3     8.06 \n",
       "PM25   5.09 "
      ]
     },
     "metadata": {},
     "output_type": "display_data"
    },
    {
     "data": {
      "image/png": "[encoded data removed]",
      "text/plain": [
       "plot without title"
      ]
     },
     "metadata": {},
     "output_type": "display_data"
    }
   ],
   "source": [
    "dane_df$DOW = as.factor(dane_df$DOW)\n",
    "dane_df$MONTH = as.factor(dane_df$MONTH)\n",
    "training = dane_df[sample(nrow(dane_df), nrow(dane_df)*0.75),]   ## 75% of data\n",
    "test = dane_df[!(dane_df$DATE %in% training$DATE),]\n",
    "\n",
    "rf=randomForest(ADMITS ~ ATMAX + DOW + MONTH + O3 + PM25, data=training, importance=TRUE, ntree = 1000)\n",
    "rf\n",
    "importance1 = data.frame(values=round(importance(rf), 2)[,1]); importance1\n",
    "varImpPlot(rf)"
   ]
  },
  {
   "cell_type": "markdown",
   "metadata": {},
   "source": [
    "permutation variable importance measures (PIMP), which can account for correlated variables when calculating importance values"
   ]
  },
  {
   "cell_type": "code",
   "execution_count": 16,
   "metadata": {
    "collapsed": false
   },
   "outputs": [
    {
     "data": {
      "text/plain": [
       "Call:\n",
       "PimpTest.default(Pimp = pimp.varImp.reg, pless = 0.1)\n",
       "\n",
       "PIMP.default(X = Xs, y = Ys, rForest = rf, S = 100, ncores = 3)\n",
       "type:  [1] \"regression\"\n",
       "\n",
       "\n",
       "\n",
       "  p-values less than  0.05 :\n",
       " ----------------------\n",
       "      VarImp   p-value    \n",
       "ATMAX 155.05 < 2.2e-16 ***\n",
       "DOW   502.37 < 2.2e-16 ***\n",
       "---\n",
       "Signif. codes:  0 '***' 0.001 '**' 0.01 '*' 0.05 '.' 0.1 ' ' 1"
      ]
     },
     "metadata": {},
     "output_type": "display_data"
    }
   ],
   "source": [
    "Xs = training[,c(\"ATMAX\",\"O3\",\"PM25\",\"DOW\",\"MONTH\")]\n",
    "Ys = training[,c(\"ADMITS\")]\n",
    "\n",
    "pimp.varImp.reg<-PIMP(Xs,Ys,rf,S=100, ncores=3)\n",
    "pimp.t.reg = PimpTest(pimp.varImp.reg, pless = 0.1)\n",
    "summary(pimp.t.reg)"
   ]
  },
  {
   "cell_type": "markdown",
   "metadata": {},
   "source": [
    "plot predicted vs observed using the test dataset (and print corr and rmse)"
   ]
  },
  {
   "cell_type": "code",
   "execution_count": 18,
   "metadata": {
    "collapsed": false
   },
   "outputs": [
    {
     "name": "stdout",
     "output_type": "stream",
     "text": [
      "[1] \"RMSE: 0.064\"\n",
      "[1] \"CORR: 0.569\"\n"
     ]
    },
    {
     "data": {
      "image/png": "[encoded data removed]",
      "text/plain": [
       "plot without title"
      ]
     },
     "metadata": {},
     "output_type": "display_data"
    }
   ],
   "source": [
    "predicted = predict(rf, test)\n",
    "observed = test$ADMITS\n",
    "\n",
    "rmse1 = round(sqrt(mean(predicted-observed)^2),3); print(paste(\"RMSE:\",rmse1))\n",
    "correlation1 = round(cor(predicted,observed),3); print(paste(\"CORR:\",correlation1))\n",
    "\n",
    "plot(observed,type='l',ylim=range(predicted,observed),xaxt='n')\n",
    "axis(1, at=1:nrow(test), labels=test$DOY)\n",
    "lines(predicted,col='red')"
   ]
  },
  {
   "cell_type": "markdown",
   "metadata": {},
   "source": [
    "partial plots of correlation between variables and admits (accounting for other variables)"
   ]
  },
  {
   "cell_type": "code",
   "execution_count": 22,
   "metadata": {
    "collapsed": false
   },
   "outputs": [
    {
     "data": {
      "image/png": "[encoded data removed]",
      "text/plain": [
       "Plot with title \"Partial Dependence on ATMAX\""
      ]
     },
     "metadata": {},
     "output_type": "display_data"
    }
   ],
   "source": [
    "partialPlot(rf, training, ATMAX)"
   ]
  },
  {
   "cell_type": "markdown",
   "metadata": {},
   "source": [
    "# ALL DATA MODEL"
   ]
  },
  {
   "cell_type": "markdown",
   "metadata": {},
   "source": [
    "same as above, but for all zip-days"
   ]
  },
  {
   "cell_type": "code",
   "execution_count": 10,
   "metadata": {
    "collapsed": false
   },
   "outputs": [
    {
     "data": {
      "text/plain": [
       "\n",
       "Call:\n",
       " randomForest(formula = ADMITS2 ~ ATMAX + DOW + MONTH + POVER70 +      PNONWHITE + PDISABLED + PPOV + PHIGHSCHOO + MEDAGE + MEDIAN_INC,      data = training, importance = TRUE, ntree = 200) \n",
       "               Type of random forest: regression\n",
       "                     Number of trees: 200\n",
       "No. of variables tried at each split: 3\n",
       "\n",
       "          Mean of squared residuals: 544.2869\n",
       "                    % Var explained: 48.47"
      ]
     },
     "metadata": {},
     "output_type": "display_data"
    },
    {
     "data": {
      "text/html": [
       "<table>\n",
       "<thead><tr><th></th><th scope=col>values</th></tr></thead>\n",
       "<tbody>\n",
       "\t<tr><th scope=row>ATMAX</th><td> 8.52</td></tr>\n",
       "\t<tr><th scope=row>DOW</th><td>16.92</td></tr>\n",
       "\t<tr><th scope=row>MONTH</th><td> 8.10</td></tr>\n",
       "\t<tr><th scope=row>POVER70</th><td>13.57</td></tr>\n",
       "\t<tr><th scope=row>PNONWHITE</th><td>21.51</td></tr>\n",
       "\t<tr><th scope=row>PDISABLED</th><td>17.87</td></tr>\n",
       "\t<tr><th scope=row>PPOV</th><td>12.75</td></tr>\n",
       "\t<tr><th scope=row>PHIGHSCHOO</th><td>17.83</td></tr>\n",
       "\t<tr><th scope=row>MEDAGE</th><td>13.74</td></tr>\n",
       "\t<tr><th scope=row>MEDIAN_INC</th><td>10.30</td></tr>\n",
       "</tbody>\n",
       "</table>\n"
      ],
      "text/latex": [
       "\\begin{tabular}{r|l}\n",
       "  & values\\\\\n",
       "\\hline\n",
       "\tATMAX &  8.52\\\\\n",
       "\tDOW & 16.92\\\\\n",
       "\tMONTH &  8.10\\\\\n",
       "\tPOVER70 & 13.57\\\\\n",
       "\tPNONWHITE & 21.51\\\\\n",
       "\tPDISABLED & 17.87\\\\\n",
       "\tPPOV & 12.75\\\\\n",
       "\tPHIGHSCHOO & 17.83\\\\\n",
       "\tMEDAGE & 13.74\\\\\n",
       "\tMEDIAN\\_INC & 10.30\\\\\n",
       "\\end{tabular}\n"
      ],
      "text/plain": [
       "           values\n",
       "ATMAX       8.52 \n",
       "DOW        16.92 \n",
       "MONTH       8.10 \n",
       "POVER70    13.57 \n",
       "PNONWHITE  21.51 \n",
       "PDISABLED  17.87 \n",
       "PPOV       12.75 \n",
       "PHIGHSCHOO 17.83 \n",
       "MEDAGE     13.74 \n",
       "MEDIAN_INC 10.30 "
      ]
     },
     "metadata": {},
     "output_type": "display_data"
    },
    {
     "data": {
      "image/png": "[encoded data removed]",
      "text/plain": [
       "plot without title"
      ]
     },
     "metadata": {},
     "output_type": "display_data"
    }
   ],
   "source": [
    "zip_df$DATE_ZIP = paste(zip_df$DATE,zip_df$ZIP)\n",
    "zip_df$ADMITS2 = zip_df$ADMITS / zip_df$POP * 100000   #admits per day per 100,000\n",
    "zip_df$DOW = as.factor(zip_df$DOW)\n",
    "zip_df$MONTH = as.factor(zip_df$MONTH)\n",
    "zip_df = zip_df[!is.na(zip_df$ADMITS2),]\n",
    "training = zip_df[sample(nrow(zip_df), nrow(zip_df)*0.8),]\n",
    "test = zip_df[!(zip_df$DATE_ZIP %in% training$DATE_ZIP),]\n",
    "\n",
    "rf=randomForest(ADMITS2 ~ ATMAX+DOW+MONTH+POVER70+PNONWHITE+PDISABLED+PPOV+PHIGHSCHOO+MEDAGE+MEDIAN_INC, data=training, importance=TRUE, ntree = 200)\n",
    "rf\n",
    "importance1 = data.frame(values=round(importance(rf), 2)[,1]); importance1\n",
    "varImpPlot(rf)"
   ]
  },
  {
   "cell_type": "markdown",
   "metadata": {},
   "source": [
    "permutation variable importance measures (PIMP), which can account for correlated variables when calculating importance values"
   ]
  },
  {
   "cell_type": "code",
   "execution_count": null,
   "metadata": {
    "collapsed": true
   },
   "outputs": [],
   "source": [
    "Xs = training[,c(\"ATMAX\",\"DOW\",\"MONTH\",\"POVER70\",\"PNONWHITE\",\"PDISABLED\",\"PPOV\",\"PHIGHSCHOO\",\"MEDAGE\",\"MEDIAN_INC\")]\n",
    "Ys = training[,c(\"ADMITS2\")]\n",
    "pimp.varImp.reg<-PIMP(Xs,Ys,rf,S=100, ncores=3)\n",
    "pimp.t.reg = PimpTest(pimp.varImp.reg, pless = 0.1)\n",
    "summary(pimp.t.reg)"
   ]
  },
  {
   "cell_type": "markdown",
   "metadata": {},
   "source": [
    "plot predicted vs observed using the test dataset (and print corr and rmse)"
   ]
  },
  {
   "cell_type": "code",
   "execution_count": 7,
   "metadata": {
    "collapsed": false
   },
   "outputs": [
    {
     "name": "stdout",
     "output_type": "stream",
     "text": [
      "[1] \"RMSE: 5.76833855304191e-06\"\n",
      "[1] \"CORR: 0.705587670324933\"\n"
     ]
    },
    {
     "data": {
      "image/png": "[encoded data removed]",
      "text/plain": [
       "plot without title"
      ]
     },
     "metadata": {},
     "output_type": "display_data"
    }
   ],
   "source": [
    "predicted = predict(rf, test)\n",
    "observed = test$ADMITS2\n",
    "\n",
    "rmse1 = sqrt(mean(predicted-observed)^2); print(paste(\"RMSE:\",rmse1))\n",
    "correlation1 = cor(predicted,observed); print(paste(\"CORR:\",correlation1))\n",
    "\n",
    "plot(observed,type='l',ylim=range(predicted,observed),xaxt='n')\n",
    "axis(1, at=1:nrow(test), labels=test$DOY)\n",
    "lines(predicted,col='red')"
   ]
  },
  {
   "cell_type": "code",
   "execution_count": 9,
   "metadata": {
    "collapsed": false
   },
   "outputs": [
    {
     "data": {
      "image/png": "[encoded data removed]",
      "text/plain": [
       "Plot with title \"Partial Dependence on MEDAGE\""
      ]
     },
     "metadata": {},
     "output_type": "display_data"
    }
   ],
   "source": [
    "par(mfrow=c(3,2))\n",
    "partialPlot(rf, training, ATMAX)\n",
    "partialPlot(rf, training, PNONWHITE)\n",
    "partialPlot(rf, training, PDISABLED)\n",
    "partialPlot(rf, training, MEDIAN_INC)\n",
    "partialPlot(rf, training, PHIGHSCHOO)\n",
    "partialPlot(rf, training, MEDAGE)"
   ]
  },
  {
   "cell_type": "markdown",
   "metadata": {},
   "source": [
    "# INDIVIDUAL ZIP RANDOM FORESTS"
   ]
  },
  {
   "cell_type": "code",
   "execution_count": null,
   "metadata": {
    "collapsed": true
   },
   "outputs": [],
   "source": []
  }
 ],
 "metadata": {
  "kernelspec": {
   "display_name": "R",
   "language": "R",
   "name": "ir"
  },
  "language_info": {
   "codemirror_mode": "r",
   "file_extension": ".r",
   "mimetype": "text/x-r-source",
   "name": "R",
   "pygments_lexer": "r",
   "version": "3.3.1"
  }
 },
 "nbformat": 4,
 "nbformat_minor": 0
}
